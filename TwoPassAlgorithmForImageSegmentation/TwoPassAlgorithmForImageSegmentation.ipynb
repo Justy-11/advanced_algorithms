{
  "nbformat": 4,
  "nbformat_minor": 0,
  "metadata": {
    "colab": {
      "provenance": [],
      "authorship_tag": "ABX9TyN3RX23r2NR3yFibadnYR6S",
      "include_colab_link": true
    },
    "kernelspec": {
      "name": "python3",
      "display_name": "Python 3"
    },
    "language_info": {
      "name": "python"
    }
  },
  "cells": [
    {
      "cell_type": "markdown",
      "metadata": {
        "id": "view-in-github",
        "colab_type": "text"
      },
      "source": [
        "<a href=\"https://colab.research.google.com/github/Justy-11/algorithms/blob/main/TwoPassAlgorithmForImageSegmentation/TwoPassAlgorithmForImageSegmentation.ipynb\" target=\"_parent\"><img src=\"https://colab.research.google.com/assets/colab-badge.svg\" alt=\"Open In Colab\"/></a>"
      ]
    },
    {
      "cell_type": "code",
      "source": [
        "import cv2\n",
        "import numpy as np\n",
        "import random\n",
        "\n",
        "def two_pass_algo(binary_image):\n",
        "    # Get the dimensions of the input image\n",
        "    height, width = binary_image.shape\n",
        "\n",
        "    # Create a zero matrix with the same dimensions\n",
        "    # for labels\n",
        "    labeled_image = np.zeros((height, width), dtype=np.int16)\n",
        "\n",
        "    # for assigning new labels\n",
        "    label = 0\n",
        "\n",
        "    # dictionary for similarity map\n",
        "    equivalence_dict = {}\n",
        "\n",
        "    # first pass\n",
        "    for i in range(height):\n",
        "        for j in range(width):\n",
        "\n",
        "          Current_pixel_color = binary_image[i][j]\n",
        "\n",
        "          # first pixel - doesn't have North or West pixel\n",
        "          if i == 0 and j == 0:\n",
        "            labeled_image[i][j] = label\n",
        "            label = label + 1\n",
        "          # first row - only have west pixel\n",
        "          if i == 0 and not (j == 0):\n",
        "            if Current_pixel_color == binary_image[i][j-1]:\n",
        "              labeled_image[i][j] = labeled_image[i][j-1]\n",
        "            else:\n",
        "              labeled_image[i][j] = label\n",
        "              label = label + 1\n",
        "          # first column - only have north pixel\n",
        "          if not (i == 0) and j == 0:\n",
        "            if Current_pixel_color == binary_image[i-1][j]:\n",
        "              labeled_image[i][j] = labeled_image[i-1][j]\n",
        "            else:\n",
        "              labeled_image[i][j] = label\n",
        "              label = label + 1\n",
        "          # rest of the pixels\n",
        "          if not (i == 0) and not (j == 0):\n",
        "            West_pixel_color = binary_image[i][j-1]\n",
        "            North_pixel_color = binary_image[i-1][j]\n",
        "            West_pixel_label = labeled_image[i][j-1]\n",
        "            North_pixel_label = labeled_image[i-1][j]\n",
        "\n",
        "            if (Current_pixel_color == West_pixel_color) and (Current_pixel_color == North_pixel_color) and not (West_pixel_label == North_pixel_label):\n",
        "              labeled_image[i][j] = min(West_pixel_label, North_pixel_label)\n",
        "\n",
        "              if not (West_pixel_label == North_pixel_label):\n",
        "                equivalence_dict[max(West_pixel_label, North_pixel_label)] = min(West_pixel_label, North_pixel_label)\n",
        "\n",
        "            if (Current_pixel_color == West_pixel_color) and (Current_pixel_color == North_pixel_color) and (West_pixel_label == North_pixel_label):\n",
        "              labeled_image[i][j] = West_pixel_label\n",
        "\n",
        "            if (Current_pixel_color == North_pixel_color) and not (Current_pixel_color == West_pixel_color):\n",
        "              labeled_image[i][j] = North_pixel_label\n",
        "\n",
        "            if (Current_pixel_color == West_pixel_color) and not (Current_pixel_color == North_pixel_color):\n",
        "              labeled_image[i][j] = West_pixel_label\n",
        "\n",
        "            if not (Current_pixel_color == North_pixel_color) and not (Current_pixel_color == West_pixel_color):\n",
        "              labeled_image[i][j] = label\n",
        "              label = label + 1\n",
        "\n",
        "    # second pass\n",
        "    for i in range(height):\n",
        "      for j in range(width):\n",
        "        label = labeled_image[i][j]\n",
        "        while label in equivalence_dict:\n",
        "          label = equivalence_dict[label]\n",
        "          labeled_image[i][j] = label\n",
        "\n",
        "    return labeled_image\n",
        "\n",
        "# Load the sample binary image - update with the image path\n",
        "binary_image = cv2.imread('Sample Image 1.bmp', cv2.IMREAD_GRAYSCALE)\n",
        "\n",
        "# Convert 255 to 1\n",
        "binary_image[binary_image == 255] = 1\n",
        "\n",
        "labeled_image = two_pass_algo(binary_image)\n",
        "\n",
        "colors = {}\n",
        "# take only unique lables\n",
        "unique_labels = np.unique(labeled_image)\n",
        "\n",
        "height, width = binary_image.shape\n",
        "\n",
        "for label in unique_labels[1:]:\n",
        "  colors[label] = (random.randint(0, 255),\n",
        "                   random.randint(0, 255),\n",
        "                   random.randint(0, 255))\n",
        "  output_image = np.zeros((height, width, 3), dtype=np.uint8)\n",
        "\n",
        "for label in unique_labels[1:]:\n",
        "  output_image[labeled_image == label] = colors[label]\n",
        "\n",
        "# Save the colored output image\n",
        "cv2.imwrite('output_image.png', output_image)"
      ],
      "metadata": {
        "colab": {
          "base_uri": "https://localhost:8080/"
        },
        "id": "JrI4Hf-Y69UI",
        "outputId": "07852f11-7ca3-456b-8a90-3e4731084896"
      },
      "execution_count": null,
      "outputs": [
        {
          "output_type": "execute_result",
          "data": {
            "text/plain": [
              "True"
            ]
          },
          "metadata": {},
          "execution_count": 8
        }
      ]
    },
    {
      "cell_type": "code",
      "source": [
        "labeled_image.shape, binary_image.shape\n",
        "# # Save the colored output image\n",
        "# cv2.imwrite('output_colored_image.png', two_pass_algo(binary_image))"
      ],
      "metadata": {
        "colab": {
          "base_uri": "https://localhost:8080/"
        },
        "id": "feWHP_ps8xB_",
        "outputId": "5395274e-ffc6-4553-dff1-4497fb38c63d"
      },
      "execution_count": null,
      "outputs": [
        {
          "output_type": "execute_result",
          "data": {
            "text/plain": [
              "((447, 640), (447, 640))"
            ]
          },
          "metadata": {},
          "execution_count": 172
        }
      ]
    },
    {
      "cell_type": "code",
      "source": [
        "np.max(labeled_image)"
      ],
      "metadata": {
        "colab": {
          "base_uri": "https://localhost:8080/"
        },
        "id": "rmwoIWGFIj4B",
        "outputId": "62f1293e-a518-4ac7-cf06-8d65c61f914e"
      },
      "execution_count": null,
      "outputs": [
        {
          "output_type": "execute_result",
          "data": {
            "text/plain": [
              "178"
            ]
          },
          "metadata": {},
          "execution_count": 186
        }
      ]
    }
  ]
}