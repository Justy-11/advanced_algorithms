class Node:
    
    # Initialte node
    def __init__(self, value, color, parent, left=None, right=None):
        self.value  = value
        self.color  = color
        self.parent = parent
        self.left   = left
        self.right  = right

    def __bool__(self):
        return bool(self.value)

class RedBlackTree:
    # NIL node - sentinel node
    NIL = Node(value=False, color='B', parent=None)

    # initialize tree
    def __init__(self):
        # It sets the root attribute to the NIL node, indicating that initially, the tree is empty.
        self.root = self.NIL

    # insert a node
    def insert(self, value):
        if not self.root:
            # If the tree is initially empty (not self.root), it creates a new node with the provided value and sets it as the root of the tree.
            self.root = Node(value, color='B', parent=self.NIL, left=self.NIL, right=self.NIL)
        else:
            self.recursiveInsert(value, self.root)

    def recursiveInsert(self, value, parent):
        # new node is always red when tree is not empty
        if value < parent.value:
            if not parent.left:
                parent.left = Node(value, color='R', parent=parent, left=self.NIL, right=self.NIL)
                self.insertFixUp(parent.left)
            else:
                self.recursiveInsert(value, parent.left)

        elif value > parent.value:
            if not parent.right:
                parent.right = Node(value, color='R', parent=parent, left=self.NIL, right=self.NIL)
                self.insertFixUp(parent.right)
            else:
                self.recursiveInsert(value, parent.right)

        else:
            print('Value is already there in tree')

    # right rotation on node
    def rightRotate(self, node):
        leftChild = node.left
        node.left = leftChild.right
        if leftChild.right:
            leftChild.right.parent = node
        leftChild.parent = node.parent
        if not node.parent:
            self.root = leftChild
        elif node == node.parent.right:
            node.parent.right = leftChild
        else:
            node.parent.left = leftChild
        leftChild.right = node
        node.parent = leftChild

    # left rotation on node
    def leftRotate(self, node):
        rightChild = node.right
        node.right = rightChild.left
        if rightChild.left:
            rightChild.left.parent = node
        rightChild.parent = node.parent
        if not node.parent:
            self.root = rightChild
        elif node == node.parent.left:
            node.parent.left = rightChild
        else:
            node.parent.right = rightChild
        rightChild.left = node
        node.parent = rightChild

    # fix insertion violations
    def insertFixUp(self, node):
            # if parent node of new node is black then exit
            while node.parent.color == 'R':
                # parent of the current node is the left child of its grandparent?
                if node.parent == node.parent.parent.left:
                    uncle = node.parent.parent.right
                    # Case 1 - uncle color is red -> recolor (uncle,parent and parents' parent) and recheck it
                    if uncle.color == 'R':
                        node.parent.color = 'B'
                        uncle.color = 'B'
                        node.parent.parent.color = 'R'  # if parents' parent is root node no need of recolor
                        node = node.parent.parent  # loop
                    else:
                        # Case 2.1 - if black or null, if node is right of parent
                        if node == node.parent.right:
                            node = node.parent
                            self.leftRotate(node)  # left rotation on parent
                        # Case 3.1 - node is left of parent - recolor
                        node.parent.color = 'B'
                        node.parent.parent.color = 'R'
                        # left rotation on grandparent
                        self.rightRotate(node.parent.parent)

                # parent of the current node is the right child of its grandparent?
                else:
                    uncle = node.parent.parent.left
                    if uncle.color == 'R':
                        node.parent.color = 'B'
                        uncle.color = 'B'
                        node.parent.parent.color = 'R'
                        node = node.parent.parent
                    else:
                        if node == node.parent.left:
                            node = node.parent
                            self.rightRotate(node)
                        node.parent.color = 'B'
                        node.parent.parent.color = 'R'
                        self.leftRotate(node.parent.parent)
            # to recolor the root node to black
            self.root.color = 'B'

    # get minimum node value
    def minimum(self):
        if self.root:
            node = self.root
            while node.left:
                node = node.left
            return node.value
        else:
            print('Tree is empty')


    # get maximum node value
    def maximum(self):
        if self.root:
            node = self.root
            while node.right:
                node = node.right
            return node.value
        else:
            print('Tree is empty')


    # search a node value
    def search(self, value):
        # if tree is not empty
        if self.root:
            return self.searchValue(value, self.root)
        else:
            return "False"

    def searchValue(self, value, currentNode):
        if value == currentNode.value:
            return "True"
        # and if the current node has a left child
        elif value < currentNode.value and currentNode.left:
            return self.searchValue(value, currentNode.left)
        elif value >  currentNode.value and currentNode.right:
            return self.searchValue(value, currentNode.right)
        else:
            return "False"

    # minimum node
    def treeMin(self, node):
        while node.left:
            node = node.left
        return node

    # delete a node
    def delete(self, value) :
        # if tree is not empty
        if self.root:
            self.deleteNode(self.root , value)
        else:
            print("Tree is empty")

    def deleteNode (self, node, key) :
        # sentinel node
        z = self.NIL
        # traverses the tree to find the node with the specified value to delete
        while node != self.NIL :
            if node.value == key :
                z = node
            if node.value <= key :
                node = node.right
            else :
                node = node.left
        # z is now the node to be deleted

        if z == self.NIL :
            print ("Value is not in the tree")
            return

        y = z
        yOriginalColor = y.color
        if (z.left == self.NIL):
            x = z.right
            self.transplant(z, z.right)
        elif (z.right == self.NIL):
            x = z.left
            self.transplant(z, z.left)
        else :
            # find inorder successor - min value node in right subtree - y hv only right child (NIL or ..)
            y = self.treeMin(z.right)
            yOriginalColor = y.color
            x = y.right
            if y.parent == z:
                x.parent = y
            else :
                # replacement of replacement with its right
                self.transplant (y, y.right)
                y.right = z.right
                y.right.parent = y

            # replacement of node to be deleted with replacement node
            self.transplant (z, y)
            y.left = z.left
            y.left.parent = y
            y.color = z.color   # original color of deleted node should be preserved

        if yOriginalColor == 'B' :
            # print("delete fixup - deleted node is black")
            self.deleteFixUp(x)

    # fix deletion violations
    def deleteFixUp (self, x) :
        # if replaced node is black - cause violations
        while x != self.root and x.color =="B":
            if x == x.parent.left:
                # set sibling
                sibling = x.parent.right
                # Case 1
                if sibling.color == "R":
                    # sibling must hv black children
                    # swap colors
                    sibling.color = "B"
                    sibling.parent.color = "R"
                    self.leftRotate(x.parent)  
                    # after rotation set sibling
                    sibling = x.parent.right  # to case 2, 3, or 4
                
                # Case 2 - sibling is black and both children of it are black
                if sibling.left.color == "B" and sibling.right.color == "B":
                    sibling.color = "R"
                    x = x.parent  # new x - repeat
                
                else:
                    # Case 3 - sibling's near child is red
                    if sibling.right.color == "B":
                        # swap colors
                        sibling.left.color = "B"
                        sibling.color = "R"
                        self.rightRotate(sibling)
                        sibling = x.parent.right  # to Case 4
                    
                    # Case 4 - sibling's far child is red
                    sibling.color = x.parent.color
                    x.parent.color = "B"
                    sibling.right.color = "B"
                    self.leftRotate(x.parent)
                    x = self.root  # to stop the loop

            #x == x.parent.right
            else:
                sibling = x.parent.left
                if sibling.color == "R":
                    sibling.color = "B"
                    x.parent.color = "R"
                    self.rightRotate (x.parent)
                    sibling = x.parent.left

                if sibling.right.color == "B" and sibling.left.color =="B":
                    sibling.color = "R"
                    x = x.parent
                else :
                    if sibling.left.color == "B":
                        sibling.right.color = "B"
                        sibling.color = "R"
                        self.leftRotate (sibling)
                        sibling = x.parent.left

                    sibling.color = x.parent.color
                    x.parent.color = "B"
                    sibling.left.color ="B"
                    self.rightRotate (x.parent)
                    x = self.root
                    
        x.color = "B"

    # to transplant replacement node in target node to be deleted
    def transplant(self, targetNode, replacement):
        # if node is root
        if not targetNode.parent:
            self.root = replacement
        elif targetNode == targetNode.parent.left:
            targetNode.parent.left = replacement
        else:
            targetNode.parent.right = replacement
        replacement.parent = targetNode.parent

    # print tree
    def printTree(self, node=None, indent="", last=True):
        if node is None:
            node = self.root

        if node != self.NIL:
            if node.parent != self.NIL:
                print(indent, end="")
                if last:
                    if node.parent.left == self.NIL:
                        print("└──", end="")
                    else:
                        print("├──", end="")
                    indent += "│  "
                else:
                    print("└──", end="")
                    indent += "   "

            print(node.color + str(node.value))
            self.printTree(node.right, indent, True)
            self.printTree(node.left, indent, False)

if __name__ == "__main__":

    tree = RedBlackTree()

    # user inputs
    for i in input().split(" "):
        tree.insert(int(i))
    
    tree.printTree()
    
    print()
    
    for i in range(int(input())):
        operation = input().split(" ")
        if operation[0] == "Delete":
            tree.delete(int(operation[1]))
            tree.printTree()
        elif operation[0] == "Insert":
            tree.insert(int(operation[1]))
            tree.printTree()
        elif operation[0] == "Search":
            print(tree.search(int(operation[1])))
        elif operation[0] == "Max":
            print(tree.maximum())
        elif operation[0] == "Min":
            print(tree.minimum())
        else:
            print("Enter a valid operation")
        print()
